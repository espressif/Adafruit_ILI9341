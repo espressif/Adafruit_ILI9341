{
 "cells": [
  {
   "cell_type": "code",
   "execution_count": 1,
   "metadata": {
    "ExecuteTime": {
     "end_time": "2020-02-22T09:51:32.271062Z",
     "start_time": "2020-02-22T09:51:32.262932Z"
    }
   },
   "outputs": [],
   "source": [
    "file_name = 'dog'\n",
    "code_h = file_name+\".h\"\n",
    "image_jpg = file_name+\".jpg\""
   ]
  },
  {
   "cell_type": "code",
   "execution_count": 2,
   "metadata": {
    "ExecuteTime": {
     "end_time": "2020-02-22T09:51:32.284073Z",
     "start_time": "2020-02-22T09:51:32.280176Z"
    }
   },
   "outputs": [],
   "source": [
    "row_len = 16"
   ]
  },
  {
   "cell_type": "code",
   "execution_count": 3,
   "metadata": {
    "ExecuteTime": {
     "end_time": "2020-02-22T09:51:32.301617Z",
     "start_time": "2020-02-22T09:51:32.290281Z"
    }
   },
   "outputs": [],
   "source": [
    "def is_jpg(filename):\n",
    "    data = open(filename,'rb').read(11)\n",
    "#     print(data)\n",
    "    if data[:4] != b'\\xff\\xd8\\xff\\xe0' and data[:4]!=b'\\xff\\xd8\\xff\\xe1': \n",
    "        return False\n",
    "    if data[6:] != b'JFIF\\x00' and data[6:] != b'Exif\\x00': \n",
    "        return False\n",
    "    return True\n",
    "\n",
    "assert is_jpg(image_jpg)"
   ]
  },
  {
   "cell_type": "code",
   "execution_count": 12,
   "metadata": {
    "ExecuteTime": {
     "end_time": "2020-02-22T09:58:11.501873Z",
     "start_time": "2020-02-22T09:58:11.443592Z"
    }
   },
   "outputs": [],
   "source": [
    "from PIL import Image\n",
    "def is_jpg2(filename):\n",
    "    try:\n",
    "        i=Image.open(filename)\n",
    "        return i.format =='JPEG'\n",
    "    except IOError:\n",
    "        return False\n",
    "assert is_jpg2(image_jpg)"
   ]
  },
  {
   "cell_type": "code",
   "execution_count": 10,
   "metadata": {
    "ExecuteTime": {
     "end_time": "2020-02-22T09:57:34.472615Z",
     "start_time": "2020-02-22T09:57:34.443642Z"
    }
   },
   "outputs": [],
   "source": [
    "f = open(image_jpg,'rb')\n",
    "f_read = f.read()"
   ]
  },
  {
   "cell_type": "code",
   "execution_count": 6,
   "metadata": {
    "ExecuteTime": {
     "end_time": "2020-02-22T09:51:32.455717Z",
     "start_time": "2020-02-22T09:51:32.446028Z"
    }
   },
   "outputs": [],
   "source": [
    "list_file = list(f_read)\n",
    "file_len = len(list_file)"
   ]
  },
  {
   "cell_type": "code",
   "execution_count": 7,
   "metadata": {
    "ExecuteTime": {
     "end_time": "2020-02-22T09:51:32.473451Z",
     "start_time": "2020-02-22T09:51:32.463681Z"
    }
   },
   "outputs": [],
   "source": [
    "head_str1 = '//File: '+image_jpg+', Size: '+str(file_len)+'\\n'\n",
    "head_str2 = '#define '+image_jpg[:-4]+'_jpg_len '+str(file_len)+'\\n'\n",
    "head_str3 = 'const uint8_t '+image_jpg[:-4]+'_jpg[] PROGMEM = {'+'\\n'"
   ]
  },
  {
   "cell_type": "code",
   "execution_count": 9,
   "metadata": {
    "ExecuteTime": {
     "end_time": "2020-02-22T09:51:32.550888Z",
     "start_time": "2020-02-22T09:51:32.494123Z"
    }
   },
   "outputs": [],
   "source": [
    "file_object = open(code_h, 'w')\n",
    "file_object.truncate();\n",
    "file_object.writelines([head_str1,head_str2,head_str3])\n",
    "\n",
    "count_len = 0\n",
    "\n",
    "for i in range(file_len):\n",
    "    if count_len == 16:\n",
    "        count_len = 0\n",
    "        file_object.write('\\n')\n",
    "    count_len+=1\n",
    "#     file_object.write(hex(list_file[i]))\n",
    "    file_object.write('0x'+'{0:02X}'.format(int(list_file[i])))\n",
    "    if i == file_len-1:\n",
    "        break\n",
    "    file_object.write(', ')\n",
    "file_object.write('\\n};')\n",
    "file_object.close( )"
   ]
  }
 ],
 "metadata": {
  "kernelspec": {
   "display_name": "Python 3",
   "language": "python",
   "name": "python3"
  },
  "language_info": {
   "codemirror_mode": {
    "name": "ipython",
    "version": 3
   },
   "file_extension": ".py",
   "mimetype": "text/x-python",
   "name": "python",
   "nbconvert_exporter": "python",
   "pygments_lexer": "ipython3",
   "version": "3.6.5"
  },
  "toc": {
   "base_numbering": 1,
   "nav_menu": {},
   "number_sections": true,
   "sideBar": true,
   "skip_h1_title": false,
   "title_cell": "Table of Contents",
   "title_sidebar": "Contents",
   "toc_cell": false,
   "toc_position": {},
   "toc_section_display": true,
   "toc_window_display": false
  }
 },
 "nbformat": 4,
 "nbformat_minor": 2
}
