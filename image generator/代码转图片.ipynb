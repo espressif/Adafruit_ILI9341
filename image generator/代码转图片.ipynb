{
 "cells": [
  {
   "cell_type": "code",
   "execution_count": 1,
   "metadata": {
    "ExecuteTime": {
     "end_time": "2020-02-22T08:48:33.865207Z",
     "start_time": "2020-02-22T08:48:33.846717Z"
    }
   },
   "outputs": [],
   "source": [
    "code_h = \"esp_wp2.h\"\n",
    "image_jpg = \"esp_wp2.jpg\""
   ]
  },
  {
   "cell_type": "code",
   "execution_count": 2,
   "metadata": {
    "ExecuteTime": {
     "end_time": "2020-02-22T08:48:33.890172Z",
     "start_time": "2020-02-22T08:48:33.876397Z"
    }
   },
   "outputs": [],
   "source": [
    "f = open( code_h,'rb')\n",
    "f_read = f.read()"
   ]
  },
  {
   "cell_type": "code",
   "execution_count": 3,
   "metadata": {
    "ExecuteTime": {
     "end_time": "2020-02-22T08:48:33.909378Z",
     "start_time": "2020-02-22T08:48:33.894941Z"
    }
   },
   "outputs": [],
   "source": [
    "def check_len(f_read2):\n",
    "    len_0x = f_read2.count('0x')\n",
    "    size_pos = f_read2.index('Size: ')\n",
    "    size_end = f_read2[size_pos:size_pos+20].index('\\n')+size_pos\n",
    "    len_jpg = int(f_read2[size_pos+6: size_end])\n",
    "    assert len_jpg == len_0x"
   ]
  },
  {
   "cell_type": "code",
   "execution_count": 4,
   "metadata": {
    "ExecuteTime": {
     "end_time": "2020-02-22T08:48:33.925125Z",
     "start_time": "2020-02-22T08:48:33.912967Z"
    }
   },
   "outputs": [],
   "source": [
    "f_read2 = str(f_read, encoding=\"utf-8\")\n",
    "assert f_read2.count('}')==1 and f_read2.count('{')==1\n",
    "check_len(f_read2)\n",
    "f_read3 = f_read2[f_read2.index('{'):f_read2.index('}')+1]"
   ]
  },
  {
   "cell_type": "code",
   "execution_count": 5,
   "metadata": {
    "ExecuteTime": {
     "end_time": "2020-02-22T08:48:33.941103Z",
     "start_time": "2020-02-22T08:48:33.930044Z"
    }
   },
   "outputs": [],
   "source": [
    "f_read4 = f_read3.replace('\\n','')\n",
    "# f_read4"
   ]
  },
  {
   "cell_type": "code",
   "execution_count": 6,
   "metadata": {
    "ExecuteTime": {
     "end_time": "2020-02-22T08:48:33.958066Z",
     "start_time": "2020-02-22T08:48:33.945041Z"
    }
   },
   "outputs": [],
   "source": [
    "f_read5 = f_read4.lower()[1:-1]\n",
    "f_read6 = f_read5.replace('0x','').replace(' ','').replace(',','')\n",
    "f_read6 = bytes.fromhex(f_read6)\n",
    "# f_read6"
   ]
  },
  {
   "cell_type": "code",
   "execution_count": 7,
   "metadata": {
    "ExecuteTime": {
     "end_time": "2020-02-22T08:48:33.967052Z",
     "start_time": "2020-02-22T08:48:33.961336Z"
    }
   },
   "outputs": [],
   "source": [
    "\n",
    "with open(image_jpg, 'wb')as fp:\n",
    "#     for x in list_dec:\n",
    "#         a = struct.pack('B', x)\n",
    "    fp.write(f_read6)"
   ]
  },
  {
   "cell_type": "code",
   "execution_count": null,
   "metadata": {},
   "outputs": [],
   "source": []
  }
 ],
 "metadata": {
  "kernelspec": {
   "display_name": "Python 3",
   "language": "python",
   "name": "python3"
  },
  "language_info": {
   "codemirror_mode": {
    "name": "ipython",
    "version": 3
   },
   "file_extension": ".py",
   "mimetype": "text/x-python",
   "name": "python",
   "nbconvert_exporter": "python",
   "pygments_lexer": "ipython3",
   "version": "3.6.5"
  },
  "toc": {
   "base_numbering": 1,
   "nav_menu": {},
   "number_sections": true,
   "sideBar": true,
   "skip_h1_title": false,
   "title_cell": "Table of Contents",
   "title_sidebar": "Contents",
   "toc_cell": false,
   "toc_position": {},
   "toc_section_display": true,
   "toc_window_display": false
  }
 },
 "nbformat": 4,
 "nbformat_minor": 2
}
